{
  "nbformat": 4,
  "nbformat_minor": 0,
  "metadata": {
    "colab": {
      "name": "Untitled0.ipynb",
      "provenance": [],
      "collapsed_sections": [],
      "authorship_tag": "ABX9TyMWPQtVhw9aoyADkIowRApr",
      "include_colab_link": true
    },
    "kernelspec": {
      "name": "python3",
      "display_name": "Python 3"
    }
  },
  "cells": [
    {
      "cell_type": "markdown",
      "metadata": {
        "id": "view-in-github",
        "colab_type": "text"
      },
      "source": [
        "<a href=\"https://colab.research.google.com/github/mateuszGrabiec/175-IC-machine-lerning/blob/main/Zad1.ipynb\" target=\"_parent\"><img src=\"https://colab.research.google.com/assets/colab-badge.svg\" alt=\"Open In Colab\"/></a>"
      ]
    },
    {
      "cell_type": "code",
      "metadata": {
        "id": "4JGkVX8jL6IJ",
        "outputId": "575577f0-7995-46fa-8c0f-a1330d44c147",
        "colab": {
          "base_uri": "https://localhost:8080/"
        }
      },
      "source": [
        "from sklearn import preprocessing as pre\n",
        "import pandas as pd\n",
        "import numpy as np\n",
        "\n",
        "\n",
        "\n",
        "data = {\n",
        "'size': [ 'S', 'M', 'L', 'XL'],\n",
        "'color': ['blue','green', 'red','purpleHaze'],\n",
        "'gender': ['male', 'female','male','male'],\n",
        "'price': [149, 79,125,2137],\n",
        "'weight': [380, 410,300,666],\n",
        "'bought': ['no','yes','no','yes']\n",
        "}\n",
        "\n",
        "df_raw = pd.DataFrame(data=data)\n",
        "df = df_raw.copy()\n",
        "\n",
        "\n",
        "for col in ['size', 'color', 'gender', 'bought']:\n",
        "  df[col] = df[col].astype('category')\n",
        "\n",
        "df.describe()\n",
        "\n",
        "df.describe(include=['category'])\n",
        "\n",
        "\n",
        "le = pre.LabelEncoder()\n",
        "le.fit_transform(df['bought']).T\n",
        "print(le.classes_)\n",
        "\n",
        "print(le.fit_transform(df['bought']).T)\n",
        "\n",
        "pd.get_dummies(data=df)\n",
        "pd.get_dummies(data=df, drop_first=True)\n",
        "scaler = pre.StandardScaler()\n",
        "df[['price', 'weight']] = scaler.fit_transform(df[['price', 'weight']])\n",
        "print(df)\n",
        "\n",
        "\n"
      ],
      "execution_count": 49,
      "outputs": [
        {
          "output_type": "stream",
          "text": [
            "['no' 'yes']\n",
            "[0 1 0 1]\n",
            "  size       color  gender     price    weight bought\n",
            "0    S        blue    male -0.541292 -0.430382     no\n",
            "1    M       green  female -0.621314 -0.211544    yes\n",
            "2    L         red    male -0.568728 -1.013950     no\n",
            "3   XL  purpleHaze    male  1.731335  1.655876    yes\n"
          ],
          "name": "stdout"
        }
      ]
    }
  ]
}