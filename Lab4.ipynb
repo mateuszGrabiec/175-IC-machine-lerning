{
  "nbformat": 4,
  "nbformat_minor": 0,
  "metadata": {
    "colab": {
      "name": "Untitled3.ipynb",
      "provenance": [],
      "collapsed_sections": [],
      "authorship_tag": "ABX9TyPArVlAEtPavAhbHBKh/Wu3",
      "include_colab_link": true
    },
    "kernelspec": {
      "name": "python3",
      "display_name": "Python 3"
    }
  },
  "cells": [
    {
      "cell_type": "markdown",
      "metadata": {
        "id": "view-in-github",
        "colab_type": "text"
      },
      "source": [
        "<a href=\"https://colab.research.google.com/github/mateuszGrabiec/175-IC-machine-lerning/blob/main/Lab4.ipynb\" target=\"_parent\"><img src=\"https://colab.research.google.com/assets/colab-badge.svg\" alt=\"Open In Colab\"/></a>"
      ]
    },
    {
      "cell_type": "code",
      "metadata": {
        "id": "f9Meq7Zb685f"
      },
      "source": [
        "import numpy as np\n",
        "import pandas as pd\n",
        "import matplotlib.pyplot as plt\n",
        "import seaborn as sns\n",
        "import math\n",
        "from sklearn.datasets import load_iris\n",
        " \n",
        "from sklearn.tree import DecisionTreeClassifier\n",
        "from mlxtend.plotting import plot_decision_regions\n",
        " \n",
        "from sklearn.tree import export_graphviz\n",
        "from sklearn.externals.six import StringIO\n",
        "import pydotplus\n",
        "from IPython.display import Image\n",
        " \n",
        "sns.set()\n",
        " \n",
        "raw_data = load_iris()\n",
        "all_data = raw_data.copy()\n",
        " \n",
        "data = all_data['data']\n",
        "target = all_data['target']\n",
        "feature_names = all_data['feature_names']\n",
        "target_names = all_data['target_names']\n",
        " \n",
        "print(f'Liczba probek: {len(data)}')\n",
        "print(f'Ksztalt danych: {data.shape}')\n",
        "print(f'Nazwy zmiennych: {feature_names}')\n",
        "print(f'Nazwy klas: {target_names}')\n",
        " \n",
        "data = pd.DataFrame(data=data, columns=feature_names)\n",
        "target = pd.DataFrame(data=target, columns=['target'])\n",
        " \n",
        "data.pop('petal width (cm)')\n",
        "data.pop('petal length (cm)')\n",
        " \n",
        "# plt.scatter(data['sepal length (cm)'][:50], data['sepal width (cm)'][:50], c='Blue', marker='X')\n",
        "# plt.scatter(data['sepal length (cm)'][51:100], data['sepal width (cm)'][51:100], c='Red', marker='o')\n",
        "# plt.scatter(data['sepal length (cm)'][101:], data['sepal width (cm)'][101:], c='Green', marker='*')\n",
        " \n",
        "# dpth = 15\n",
        "# classifier = DecisionTreeClassifier(max_depth=dpth)\n",
        "# classifier.fit(data,target)\n",
        " \n",
        "# acc =classifier.score(data,target)\n",
        "# plt.figure(figsize=(10,7))\n",
        "# plot_decision_regions(np.array(data), np.array(target).reshape(150), classifier)\n",
        "# plt.title(f'Max_depth = {dpth}, accuracy = {acc:.2}')\n",
        "# plt.show()\n",
        " \n",
        " \n",
        "#################################################################################\n",
        " \n",
        "# dot_data = StringIO()\n",
        "# export_graphviz(classifier, out_file=dot_data, feature_names=feature_names[:2], class_names=target_names, filled=True)\n",
        "# graph = pydotplus.graph_from_dot_data(dot_data.getvalue())\n",
        "# Image(graph.create_png())\n",
        " \n",
        " \n",
        "#################################################################################\n",
        " \n",
        "def make_decision_tree(max_depth = 1):\n",
        "    classifier = DecisionTreeClassifier(max_depth=max_depth)\n",
        "    classifier.fit(data,target)\n",
        " \n",
        "    dot_data = StringIO()\n",
        "    export_graphviz(classifier, out_file=dot_data, feature_names=feature_names[:2], class_names=target_names, filled=True)\n",
        "    graph = pydotplus.graph_from_dot_data(dot_data.getvalue())\n",
        " \n",
        "    acc =classifier.score(data,target)\n",
        "    \n",
        "    plt.figure(figsize=(10,7))\n",
        "    plot_decision_regions(np.array(data), np.array(target).reshape(150), classifier)\n",
        "    plt.title(f'Max_depth = {dpth}, accuracy = {acc:.2}')\n",
        "    plt.show()\n",
        " \n",
        "    return Image(graph.create_png())"
      ],
      "execution_count": null,
      "outputs": []
    }
  ]
}